{
 "cells": [
  {
   "cell_type": "code",
   "execution_count": 49,
   "metadata": {},
   "outputs": [
    {
     "name": "stdout",
     "output_type": "stream",
     "text": [
      "The autoreload extension is already loaded. To reload it, use:\n",
      "  %reload_ext autoreload\n"
     ]
    }
   ],
   "source": [
    "%load_ext autoreload\n",
    "%autoreload 2"
   ]
  },
  {
   "cell_type": "code",
   "execution_count": 50,
   "metadata": {},
   "outputs": [],
   "source": [
    "from vae import VAE\n",
    "\n",
    "import torch\n",
    "from torchvision.datasets import CIFAR10\n",
    "import torchvision.transforms as T\n",
    "import matplotlib.pyplot as plt"
   ]
  },
  {
   "cell_type": "code",
   "execution_count": 51,
   "metadata": {},
   "outputs": [
    {
     "name": "stdout",
     "output_type": "stream",
     "text": [
      "\u001b[01;34mlightning_logs\u001b[00m\n",
      "├── \u001b[01;34mversion_0\u001b[00m\n",
      "│   ├── \u001b[01;34mcheckpoints\u001b[00m\n",
      "│   │   └── epoch=19.ckpt\n",
      "│   ├── events.out.tfevents.1598549291.beast.29637.0\n",
      "│   └── hparams.yaml\n",
      "├── \u001b[01;34mversion_1\u001b[00m\n",
      "│   ├── \u001b[01;34mcheckpoints\u001b[00m\n",
      "│   │   └── epoch=48.ckpt\n",
      "│   ├── events.out.tfevents.1598549998.beast.30509.0\n",
      "│   └── hparams.yaml\n",
      "├── \u001b[01;34mversion_2\u001b[00m\n",
      "│   ├── \u001b[01;34mcheckpoints\u001b[00m\n",
      "│   ├── events.out.tfevents.1598550443.beast.32760.0\n",
      "│   └── hparams.yaml\n",
      "└── \u001b[01;34mversion_3\u001b[00m\n",
      "    ├── \u001b[01;34mcheckpoints\u001b[00m\n",
      "    │   └── epoch=15.ckpt\n",
      "    ├── events.out.tfevents.1598550476.beast.405.0\n",
      "    └── hparams.yaml\n",
      "\n",
      "8 directories, 11 files\n"
     ]
    }
   ],
   "source": [
    "!tree lightning_logs"
   ]
  },
  {
   "cell_type": "code",
   "execution_count": 73,
   "metadata": {},
   "outputs": [],
   "source": [
    "vae = VAE.load_from_checkpoint(\"lightning_logs/version_3/checkpoints/epoch=44.ckpt\")\n",
    "vae.eval();"
   ]
  },
  {
   "cell_type": "code",
   "execution_count": 74,
   "metadata": {},
   "outputs": [],
   "source": [
    "ds = CIFAR10(\"data\", train=False, transform=T.ToTensor())"
   ]
  },
  {
   "cell_type": "code",
   "execution_count": 75,
   "metadata": {},
   "outputs": [],
   "source": [
    "example = 6"
   ]
  },
  {
   "cell_type": "code",
   "execution_count": 76,
   "metadata": {},
   "outputs": [],
   "source": [
    "img = ds[example][0]\n",
    "with torch.no_grad():\n",
    "    mu = vae.encode(img.unsqueeze(0))[0]\n",
    "    reconst = vae.decode(mu).squeeze()"
   ]
  },
  {
   "cell_type": "code",
   "execution_count": 77,
   "metadata": {},
   "outputs": [
    {
     "data": {
      "text/plain": [
       "<matplotlib.image.AxesImage at 0x7f2dd7799150>"
      ]
     },
     "execution_count": 77,
     "metadata": {},
     "output_type": "execute_result"
    },
    {
     "data": {
      "image/png": "[encoded data removed]",
      "text/plain": [
       "<Figure size 432x288 with 1 Axes>"
      ]
     },
     "metadata": {
      "needs_background": "light"
     },
     "output_type": "display_data"
    }
   ],
   "source": [
    "plt.imshow(img.permute(1, 2, 0).numpy())"
   ]
  },
  {
   "cell_type": "code",
   "execution_count": 78,
   "metadata": {},
   "outputs": [
    {
     "data": {
      "text/plain": [
       "<matplotlib.image.AxesImage at 0x7f2dd772f4d0>"
      ]
     },
     "execution_count": 78,
     "metadata": {},
     "output_type": "execute_result"
    },
    {
     "data": {
      "image/png": "[encoded data removed]",
      "text/plain": [
       "<Figure size 432x288 with 1 Axes>"
      ]
     },
     "metadata": {
      "needs_background": "light"
     },
     "output_type": "display_data"
    }
   ],
   "source": [
    "plt.imshow(reconst.permute(1, 2, 0).numpy())"
   ]
  },
  {
   "cell_type": "code",
   "execution_count": null,
   "metadata": {},
   "outputs": [],
   "source": []
  },
  {
   "cell_type": "code",
   "execution_count": null,
   "metadata": {},
   "outputs": [],
   "source": []
  }
 ],
 "metadata": {
  "kernelspec": {
   "display_name": "Python 3",
   "language": "python",
   "name": "python3"
  },
  "language_info": {
   "codemirror_mode": {
    "name": "ipython",
    "version": 3
   },
   "file_extension": ".py",
   "mimetype": "text/x-python",
   "name": "python",
   "nbconvert_exporter": "python",
   "pygments_lexer": "ipython3",
   "version": "3.7.5"
  }
 },
 "nbformat": 4,
 "nbformat_minor": 4
}
