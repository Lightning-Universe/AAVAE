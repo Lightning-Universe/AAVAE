{
 "cells": [
  {
   "cell_type": "code",
   "execution_count": 1,
   "metadata": {},
   "outputs": [],
   "source": [
    "%load_ext autoreload\n",
    "%autoreload 2"
   ]
  },
  {
   "cell_type": "code",
   "execution_count": 129,
   "metadata": {},
   "outputs": [],
   "source": [
    "from vae import VAE\n",
    "\n",
    "import torch\n",
    "from torch.utils.data import Dataset\n",
    "from torchvision.datasets import CIFAR10\n",
    "import torchvision.transforms as T\n",
    "import matplotlib.pyplot as plt"
   ]
  },
  {
   "cell_type": "code",
   "execution_count": 162,
   "metadata": {},
   "outputs": [
    {
     "name": "stdout",
     "output_type": "stream",
     "text": [
      "\u001b[01;34mlightning_logs\u001b[00m\n",
      "├── \u001b[01;34mversion_0\u001b[00m\n",
      "│   ├── \u001b[01;34mcheckpoints\u001b[00m\n",
      "│   │   └── epoch=17.ckpt\n",
      "│   ├── events.out.tfevents.1598897294.beast.10318.0\n",
      "│   └── hparams.yaml\n",
      "├── \u001b[01;34mversion_1\u001b[00m\n",
      "│   ├── \u001b[01;34mcheckpoints\u001b[00m\n",
      "│   │   └── epoch=45.ckpt\n",
      "│   ├── events.out.tfevents.1598898595.beast.12224.0\n",
      "│   └── hparams.yaml\n",
      "├── \u001b[01;34mversion_2\u001b[00m\n",
      "│   ├── \u001b[01;34mcheckpoints\u001b[00m\n",
      "│   │   └── epoch=9.ckpt\n",
      "│   ├── events.out.tfevents.1598901916.beast.16914.0\n",
      "│   └── hparams.yaml\n",
      "├── \u001b[01;34mversion_3\u001b[00m\n",
      "│   ├── \u001b[01;34mcheckpoints\u001b[00m\n",
      "│   │   └── epoch=9.ckpt\n",
      "│   ├── events.out.tfevents.1598902692.beast.19293.0\n",
      "│   └── hparams.yaml\n",
      "└── \u001b[01;34mversion_4\u001b[00m\n",
      "    ├── \u001b[01;34mcheckpoints\u001b[00m\n",
      "    │   └── epoch=15.ckpt\n",
      "    ├── events.out.tfevents.1598903672.beast.21291.0\n",
      "    └── hparams.yaml\n",
      "\n",
      "10 directories, 15 files\n"
     ]
    }
   ],
   "source": [
    "!tree lightning_logs"
   ]
  },
  {
   "cell_type": "code",
   "execution_count": 163,
   "metadata": {},
   "outputs": [],
   "source": [
    "vae = VAE.load_from_checkpoint(\"lightning_logs/version_4/checkpoints/epoch=15.ckpt\")\n",
    "vae.eval();"
   ]
  },
  {
   "cell_type": "code",
   "execution_count": 164,
   "metadata": {},
   "outputs": [],
   "source": [
    "ds = CIFAR10(\"data\", train=False, transform=T.ToTensor())"
   ]
  },
  {
   "cell_type": "code",
   "execution_count": 169,
   "metadata": {},
   "outputs": [],
   "source": [
    "example = 4"
   ]
  },
  {
   "cell_type": "code",
   "execution_count": 170,
   "metadata": {},
   "outputs": [],
   "source": [
    "img = ds[example][0]\n",
    "with torch.no_grad():\n",
    "    x = vae.encoder(img.unsqueeze(0))\n",
    "    mu = vae.fc_mu(x)\n",
    "    reconst = vae.decoder(mu).squeeze()"
   ]
  },
  {
   "cell_type": "code",
   "execution_count": 171,
   "metadata": {},
   "outputs": [
    {
     "data": {
      "text/plain": [
       "<matplotlib.image.AxesImage at 0x7f9fe13f4850>"
      ]
     },
     "execution_count": 171,
     "metadata": {},
     "output_type": "execute_result"
    },
    {
     "data": {
      "image/png": "[encoded data removed]",
      "text/plain": [
       "<Figure size 432x288 with 1 Axes>"
      ]
     },
     "metadata": {
      "needs_background": "light"
     },
     "output_type": "display_data"
    }
   ],
   "source": [
    "plt.imshow(img.permute(1, 2, 0).numpy())"
   ]
  },
  {
   "cell_type": "code",
   "execution_count": 172,
   "metadata": {},
   "outputs": [
    {
     "data": {
      "text/plain": [
       "<matplotlib.image.AxesImage at 0x7f9fe1b3af50>"
      ]
     },
     "execution_count": 172,
     "metadata": {},
     "output_type": "execute_result"
    },
    {
     "data": {
      "image/png": "[encoded data removed]",
      "text/plain": [
       "<Figure size 432x288 with 1 Axes>"
      ]
     },
     "metadata": {
      "needs_background": "light"
     },
     "output_type": "display_data"
    }
   ],
   "source": [
    "plt.imshow(reconst.permute(1, 2, 0).numpy())"
   ]
  },
  {
   "cell_type": "code",
   "execution_count": 174,
   "metadata": {},
   "outputs": [
    {
     "data": {
      "text/plain": [
       "<matplotlib.image.AxesImage at 0x7f9fe12f1d10>"
      ]
     },
     "execution_count": 174,
     "metadata": {},
     "output_type": "execute_result"
    },
    {
     "data": {
      "image/png": "[encoded data removed]",
      "text/plain": [
       "<Figure size 432x288 with 1 Axes>"
      ]
     },
     "metadata": {
      "needs_background": "light"
     },
     "output_type": "display_data"
    }
   ],
   "source": [
    "with torch.no_grad():\n",
    "    z = torch.randn_like(mu)\n",
    "    gen = vae.decoder(z).squeeze()\n",
    "    \n",
    "plt.imshow(gen.permute(1, 2, 0).numpy())"
   ]
  },
  {
   "cell_type": "code",
   "execution_count": 134,
   "metadata": {},
   "outputs": [],
   "source": [
    "def tsne(model, dataset):\n",
    "    dl = DataLoader(dataset, batch_size=64, num_workers=8)\n",
    "    for (x, y) in dl:\n",
    "        mu, _, _ = model.encode(x)\n",
    "    "
   ]
  },
  {
   "cell_type": "code",
   "execution_count": null,
   "metadata": {},
   "outputs": [],
   "source": []
  }
 ],
 "metadata": {
  "kernelspec": {
   "display_name": "Python 3",
   "language": "python",
   "name": "python3"
  },
  "language_info": {
   "codemirror_mode": {
    "name": "ipython",
    "version": 3
   },
   "file_extension": ".py",
   "mimetype": "text/x-python",
   "name": "python",
   "nbconvert_exporter": "python",
   "pygments_lexer": "ipython3",
   "version": "3.7.5"
  }
 },
 "nbformat": 4,
 "nbformat_minor": 4
}
