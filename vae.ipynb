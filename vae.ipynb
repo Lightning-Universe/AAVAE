{
 "cells": [
  {
   "cell_type": "code",
   "execution_count": 7,
   "metadata": {},
   "outputs": [],
   "source": [
    "import torch\n",
    "from torch import nn\n",
    "import torch.nn.functional as F\n",
    "from torch.utils.data import DataLoader\n",
    "from torchvision import transforms as T\n",
    "from torchvision.datasets import MNIST\n",
    "\n",
    "import pytorch_lightning as pl"
   ]
  },
  {
   "cell_type": "code",
   "execution_count": 8,
   "metadata": {},
   "outputs": [],
   "source": [
    "bs = 256\n",
    "train_dl = DataLoader(\n",
    "    MNIST(\"data\", train=True, download=True, transform=T.ToTensor()),\n",
    "    num_workers=4, \n",
    "    batch_size=bs\n",
    ")\n",
    "\n",
    "test_dl = DataLoader(\n",
    "    MNIST(\"data\", train=False, download=True, transform=T.ToTensor()),\n",
    "    num_workers=4, \n",
    "    batch_size=bs\n",
    ")"
   ]
  },
  {
   "cell_type": "code",
   "execution_count": 39,
   "metadata": {},
   "outputs": [],
   "source": [
    "def kl_divergence(log_var, mu):\n",
    "    return torch.mean(0.5 * torch.sum(log_var.exp() - log_var - 1 + mu.pow(2), dim=1))\n",
    "\n",
    "\n",
    "class VAE(pl.LightningModule):\n",
    "    def __init__(self, d=16, lr=1e-2):\n",
    "        super().__init__()\n",
    "        self.save_hyperparameters()\n",
    "        \n",
    "        self.d = d\n",
    "        self.lr = lr\n",
    "        \n",
    "        self.encoder = nn.Sequential(\n",
    "            nn.Linear(28 * 28, 128),\n",
    "            nn.ReLU(),\n",
    "            nn.Linear(128, d * 2),\n",
    "        )\n",
    "        self.decoder = nn.Sequential(\n",
    "            nn.Linear(d, 128),\n",
    "            nn.ReLU(),\n",
    "            nn.Linear(128, 28 * 28),\n",
    "            nn.Sigmoid(),\n",
    "        )\n",
    "        \n",
    "    def configure_optimizers(self):\n",
    "        return torch.optim.Adam(self.parameters(), lr=self.lr)\n",
    "        \n",
    "    def forward(self, x, train=True):\n",
    "        enc_out = self.encoder(x).view(-1, 2, self.d)\n",
    "        mu, log_var = enc_out[:, 0, :], enc_out[:, 1, :]\n",
    "        if train:\n",
    "            std = torch.exp(log_var * 0.5)\n",
    "            eps = torch.randn_like(std)\n",
    "            z = (eps * std) + mu\n",
    "        else:\n",
    "            # no need to random sample if not training\n",
    "            z = mu\n",
    "        return self.decoder(z), mu, log_var\n",
    "    \n",
    "    def training_step(self, batch, batch_idx):\n",
    "        x = batch[0].view(-1, 28 * 28)\n",
    "        x_hat, mu, log_var = self.forward(x)\n",
    "        loss = (\n",
    "            F.binary_cross_entropy(x_hat, x) + kl_divergence(log_var, mu)\n",
    "        )\n",
    "        return pl.TrainResult(loss)"
   ]
  },
  {
   "cell_type": "code",
   "execution_count": 40,
   "metadata": {},
   "outputs": [
    {
     "name": "stderr",
     "output_type": "stream",
     "text": [
      "GPU available: False, used: False\n",
      "TPU available: False, using: 0 TPU cores\n",
      "\n",
      "  | Name    | Type       | Params\n",
      "---------------------------------------\n",
      "0 | encoder | Sequential | 104 K \n",
      "1 | decoder | Sequential | 103 K \n"
     ]
    },
    {
     "data": {
      "application/vnd.jupyter.widget-view+json": {
       "model_id": "4983f78be4184879ad74a9b62ea481a9",
       "version_major": 2,
       "version_minor": 0
      },
      "text/plain": [
       "HBox(children=(FloatProgress(value=1.0, bar_style='info', description='Training', layout=Layout(flex='2'), max…"
      ]
     },
     "metadata": {},
     "output_type": "display_data"
    },
    {
     "name": "stdout",
     "output_type": "stream",
     "text": [
      "\n"
     ]
    },
    {
     "data": {
      "text/plain": [
       "1"
      ]
     },
     "execution_count": 40,
     "metadata": {},
     "output_type": "execute_result"
    }
   ],
   "source": [
    "trainer = pl.Trainer(max_epochs=20)\n",
    "model = VAE()\n",
    "trainer.fit(model, train_dl)"
   ]
  },
  {
   "cell_type": "code",
   "execution_count": 21,
   "metadata": {},
   "outputs": [
    {
     "data": {
      "text/plain": [
       "60000"
      ]
     },
     "execution_count": 21,
     "metadata": {},
     "output_type": "execute_result"
    }
   ],
   "source": []
  },
  {
   "cell_type": "code",
   "execution_count": null,
   "metadata": {},
   "outputs": [],
   "source": []
  }
 ],
 "metadata": {
  "kernelspec": {
   "display_name": "Python 3",
   "language": "python",
   "name": "python3"
  },
  "language_info": {
   "codemirror_mode": {
    "name": "ipython",
    "version": 3
   },
   "file_extension": ".py",
   "mimetype": "text/x-python",
   "name": "python",
   "nbconvert_exporter": "python",
   "pygments_lexer": "ipython3",
   "version": "3.8.3"
  }
 },
 "nbformat": 4,
 "nbformat_minor": 4
}
